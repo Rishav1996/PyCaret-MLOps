{
 "cells": [
  {
   "cell_type": "code",
   "execution_count": 1,
   "id": "fde14aac",
   "metadata": {},
   "outputs": [],
   "source": [
    "import pandas as pd\n",
    "from sklearn.model_selection import StratifiedShuffleSplit\n",
    "import random\n",
    "\n",
    "random_state = 123\n",
    "random.seed(random_state)"
   ]
  },
  {
   "cell_type": "code",
   "execution_count": 2,
   "id": "da42e97e",
   "metadata": {},
   "outputs": [
    {
     "name": "stdout",
     "output_type": "stream",
     "text": [
      "(891, 12)\n"
     ]
    }
   ],
   "source": [
    "data = pd.read_csv('./data/train.csv')\n",
    "print(data.shape)"
   ]
  },
  {
   "cell_type": "code",
   "execution_count": 3,
   "id": "55b9f349",
   "metadata": {},
   "outputs": [
    {
     "name": "stdout",
     "output_type": "stream",
     "text": [
      "(712, 12) (179, 12)\n"
     ]
    }
   ],
   "source": [
    "index = [i for i in StratifiedShuffleSplit(n_splits=1, test_size=0.2, random_state=random_state).split(data.drop(columns=['Survived']).values, data['Survived'].values)]\n",
    "train_index, test_index = index[0][0], index[0][1]\n",
    "train_v2, test_v2 = data.iloc[train_index].copy(), data.iloc[test_index].copy()\n",
    "train_v2.to_csv('./data_transformed/train_v2.csv', index=False)\n",
    "test_v2.to_csv('./data_transformed/test_v2.csv', index=False)\n",
    "print(train_v2.shape, test_v2.shape)"
   ]
  },
  {
   "cell_type": "code",
   "execution_count": 4,
   "id": "3efa3ae4",
   "metadata": {},
   "outputs": [
    {
     "name": "stdout",
     "output_type": "stream",
     "text": [
      "(569, 12) (143, 12)\n"
     ]
    }
   ],
   "source": [
    "index = [i for i in StratifiedShuffleSplit(n_splits=1, test_size=0.2, random_state=random_state).split(train_v2.drop(columns=['Survived']).values, train_v2['Survived'].values)]\n",
    "train_index, test_index = index[0][0], index[0][1]\n",
    "train_v1, test_v1 = train_v2.iloc[train_index].copy(), train_v2.iloc[test_index].copy()\n",
    "train_v1.to_csv('./data_transformed/train_v1.csv', index=False)\n",
    "test_v1.to_csv('./data_transformed/test_v1.csv', index=False)\n",
    "print(train_v1.shape, test_v1.shape)"
   ]
  }
 ],
 "metadata": {
  "kernelspec": {
   "display_name": "Python 3 (ipykernel)",
   "language": "python",
   "name": "python3"
  },
  "language_info": {
   "codemirror_mode": {
    "name": "ipython",
    "version": 3
   },
   "file_extension": ".py",
   "mimetype": "text/x-python",
   "name": "python",
   "nbconvert_exporter": "python",
   "pygments_lexer": "ipython3",
   "version": "3.7.16"
  }
 },
 "nbformat": 4,
 "nbformat_minor": 5
}
